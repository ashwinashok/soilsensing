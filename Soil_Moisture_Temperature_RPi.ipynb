{
 "cells": [
  {
   "cell_type": "code",
   "execution_count": null,
   "metadata": {},
   "outputs": [],
   "source": [
    "import serial\n",
    "import csv\n",
    "import time\n",
    "from datetime import datetime\n",
    "\n",
    "# Configure the serial port\n",
    "ser = serial.Serial('/dev/ttyUSB0', 9600, timeout=1)\n",
    "time.sleep(2)  # Wait for the serial connection to initialize\n",
    "\n",
    "# Open the CSV file for writing\n",
    "with open('sensor_data.csv', 'w', newline='') as csvfile:\n",
    "    csvwriter = csv.writer(csvfile)\n",
    "    # Write the header row\n",
    "    csvwriter.writerow(['Timestamp', 'Soil Moisture Value', 'Soil Moisture (%)', 'Soil Temperature (°C)'])\n",
    "\n",
    "    while True:\n",
    "        try:\n",
    "            # Read a line from the serial port\n",
    "            line = ser.readline().decode('utf-8').strip()\n",
    "            if line:\n",
    "                # Split the line into components\n",
    "                parts = line.split('|')\n",
    "                if len(parts) == 3:\n",
    "                    moisture_value = parts[0].split(':')[1].strip()\n",
    "                    moisture_percent = parts[1].split(':')[1].strip().replace('%', '')\n",
    "                    temperature_c = parts[2].split(':')[1].strip().replace('°C', '')\n",
    "\n",
    "                    # Get the current timestamp\n",
    "                    timestamp = datetime.now().strftime('%Y-%m-%d %H:%M:%S')\n",
    "\n",
    "                    # Write the data to the CSV file\n",
    "                    csvwriter.writerow([timestamp, moisture_value, moisture_percent, temperature_c])\n",
    "                    print(f\"Logged data at {timestamp}\")\n",
    "\n",
    "                # Flush the file to ensure data is written\n",
    "                csvfile.flush()\n",
    "            time.sleep(1)\n",
    "        except KeyboardInterrupt:\n",
    "            print(\"Exiting...\")\n",
    "            break\n",
    "        except Exception as e:\n",
    "            print(f\"Error: {e}\")\n",
    "\n",
    "# Close the serial port\n",
    "ser.close()\n",
    "\n"
   ]
  }
 ],
 "metadata": {
  "kernelspec": {
   "display_name": "Python 3",
   "language": "python",
   "name": "python3"
  },
  "language_info": {
   "codemirror_mode": {
    "name": "ipython",
    "version": 3
   },
   "file_extension": ".py",
   "mimetype": "text/x-python",
   "name": "python",
   "nbconvert_exporter": "python",
   "pygments_lexer": "ipython3",
   "version": "3.8.5"
  }
 },
 "nbformat": 4,
 "nbformat_minor": 4
}
